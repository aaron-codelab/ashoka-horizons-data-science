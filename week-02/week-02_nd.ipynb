{
 "cells": [
  {
   "cell_type": "code",
   "execution_count": 71,
   "metadata": {},
   "outputs": [],
   "source": [
    "import pandas as pd\n",
    "import numpy as np\n",
    "import matplotlib.pyplot as plt\n",
    "import seaborn as sns"
   ]
  },
  {
   "cell_type": "code",
   "execution_count": 72,
   "metadata": {},
   "outputs": [],
   "source": [
    "#Loading the csv files as a dataframe\n",
    "df_nd = pd.read_csv('nutrition-drinks.csv')"
   ]
  },
  {
   "cell_type": "code",
   "execution_count": 73,
   "metadata": {},
   "outputs": [
    {
     "data": {
      "text/html": [
       "<div>\n",
       "<style scoped>\n",
       "    .dataframe tbody tr th:only-of-type {\n",
       "        vertical-align: middle;\n",
       "    }\n",
       "\n",
       "    .dataframe tbody tr th {\n",
       "        vertical-align: top;\n",
       "    }\n",
       "\n",
       "    .dataframe thead th {\n",
       "        text-align: right;\n",
       "    }\n",
       "</style>\n",
       "<table border=\"1\" class=\"dataframe\">\n",
       "  <thead>\n",
       "    <tr style=\"text-align: right;\">\n",
       "      <th></th>\n",
       "      <th>Unnamed: 0</th>\n",
       "      <th>Calories</th>\n",
       "      <th>Fat (g)</th>\n",
       "      <th>Carb. (g)</th>\n",
       "      <th>Fiber (g)</th>\n",
       "      <th>Protein</th>\n",
       "      <th>Sodium</th>\n",
       "    </tr>\n",
       "  </thead>\n",
       "  <tbody>\n",
       "    <tr>\n",
       "      <th>0</th>\n",
       "      <td>Cool Lime Starbucks Refreshers™ Beverage</td>\n",
       "      <td>45</td>\n",
       "      <td>0</td>\n",
       "      <td>11</td>\n",
       "      <td>0</td>\n",
       "      <td>0</td>\n",
       "      <td>10</td>\n",
       "    </tr>\n",
       "    <tr>\n",
       "      <th>1</th>\n",
       "      <td>Ombré Pink Drink</td>\n",
       "      <td>-</td>\n",
       "      <td>-</td>\n",
       "      <td>-</td>\n",
       "      <td>-</td>\n",
       "      <td>-</td>\n",
       "      <td>-</td>\n",
       "    </tr>\n",
       "    <tr>\n",
       "      <th>2</th>\n",
       "      <td>Pink Drink</td>\n",
       "      <td>-</td>\n",
       "      <td>-</td>\n",
       "      <td>-</td>\n",
       "      <td>-</td>\n",
       "      <td>-</td>\n",
       "      <td>-</td>\n",
       "    </tr>\n",
       "    <tr>\n",
       "      <th>3</th>\n",
       "      <td>Strawberry Acai Starbucks Refreshers™ Beverage</td>\n",
       "      <td>80</td>\n",
       "      <td>0</td>\n",
       "      <td>18</td>\n",
       "      <td>1</td>\n",
       "      <td>0</td>\n",
       "      <td>10</td>\n",
       "    </tr>\n",
       "    <tr>\n",
       "      <th>4</th>\n",
       "      <td>Very Berry Hibiscus Starbucks Refreshers™ Beve...</td>\n",
       "      <td>60</td>\n",
       "      <td>0</td>\n",
       "      <td>14</td>\n",
       "      <td>1</td>\n",
       "      <td>0</td>\n",
       "      <td>10</td>\n",
       "    </tr>\n",
       "  </tbody>\n",
       "</table>\n",
       "</div>"
      ],
      "text/plain": [
       "                                          Unnamed: 0 Calories Fat (g)  \\\n",
       "0           Cool Lime Starbucks Refreshers™ Beverage       45       0   \n",
       "1                                   Ombré Pink Drink        -       -   \n",
       "2                                         Pink Drink        -       -   \n",
       "3     Strawberry Acai Starbucks Refreshers™ Beverage       80       0   \n",
       "4  Very Berry Hibiscus Starbucks Refreshers™ Beve...       60       0   \n",
       "\n",
       "  Carb. (g) Fiber (g) Protein Sodium  \n",
       "0        11         0       0     10  \n",
       "1         -         -       -      -  \n",
       "2         -         -       -      -  \n",
       "3        18         1       0     10  \n",
       "4        14         1       0     10  "
      ]
     },
     "execution_count": 73,
     "metadata": {},
     "output_type": "execute_result"
    }
   ],
   "source": [
    "#Showing top 5 entries\n",
    "df_nd.head(5)"
   ]
  },
  {
   "cell_type": "code",
   "execution_count": 74,
   "metadata": {},
   "outputs": [
    {
     "data": {
      "text/html": [
       "<div>\n",
       "<style scoped>\n",
       "    .dataframe tbody tr th:only-of-type {\n",
       "        vertical-align: middle;\n",
       "    }\n",
       "\n",
       "    .dataframe tbody tr th {\n",
       "        vertical-align: top;\n",
       "    }\n",
       "\n",
       "    .dataframe thead th {\n",
       "        text-align: right;\n",
       "    }\n",
       "</style>\n",
       "<table border=\"1\" class=\"dataframe\">\n",
       "  <thead>\n",
       "    <tr style=\"text-align: right;\">\n",
       "      <th></th>\n",
       "      <th>Unnamed: 0</th>\n",
       "      <th>Calories</th>\n",
       "      <th>Fat (g)</th>\n",
       "      <th>Carb. (g)</th>\n",
       "      <th>Fiber (g)</th>\n",
       "      <th>Protein</th>\n",
       "      <th>Sodium</th>\n",
       "    </tr>\n",
       "  </thead>\n",
       "  <tbody>\n",
       "    <tr>\n",
       "      <th>172</th>\n",
       "      <td>Chocolate Smoothie</td>\n",
       "      <td>320</td>\n",
       "      <td>5</td>\n",
       "      <td>53</td>\n",
       "      <td>8</td>\n",
       "      <td>20</td>\n",
       "      <td>170</td>\n",
       "    </tr>\n",
       "    <tr>\n",
       "      <th>173</th>\n",
       "      <td>Strawberry Smoothie</td>\n",
       "      <td>300</td>\n",
       "      <td>2</td>\n",
       "      <td>60</td>\n",
       "      <td>7</td>\n",
       "      <td>16</td>\n",
       "      <td>130</td>\n",
       "    </tr>\n",
       "    <tr>\n",
       "      <th>174</th>\n",
       "      <td>Ginger Ale</td>\n",
       "      <td>-</td>\n",
       "      <td>-</td>\n",
       "      <td>-</td>\n",
       "      <td>-</td>\n",
       "      <td>-</td>\n",
       "      <td>-</td>\n",
       "    </tr>\n",
       "    <tr>\n",
       "      <th>175</th>\n",
       "      <td>Lemon Ale</td>\n",
       "      <td>-</td>\n",
       "      <td>-</td>\n",
       "      <td>-</td>\n",
       "      <td>-</td>\n",
       "      <td>-</td>\n",
       "      <td>-</td>\n",
       "    </tr>\n",
       "    <tr>\n",
       "      <th>176</th>\n",
       "      <td>Orange Cream Soda</td>\n",
       "      <td>-</td>\n",
       "      <td>-</td>\n",
       "      <td>-</td>\n",
       "      <td>-</td>\n",
       "      <td>-</td>\n",
       "      <td>-</td>\n",
       "    </tr>\n",
       "  </tbody>\n",
       "</table>\n",
       "</div>"
      ],
      "text/plain": [
       "              Unnamed: 0 Calories Fat (g) Carb. (g) Fiber (g) Protein Sodium\n",
       "172   Chocolate Smoothie      320       5        53         8      20    170\n",
       "173  Strawberry Smoothie      300       2        60         7      16    130\n",
       "174           Ginger Ale        -       -         -         -       -      -\n",
       "175            Lemon Ale        -       -         -         -       -      -\n",
       "176    Orange Cream Soda        -       -         -         -       -      -"
      ]
     },
     "execution_count": 74,
     "metadata": {},
     "output_type": "execute_result"
    }
   ],
   "source": [
    "#Showing bottom 5 entries\n",
    "df_nd.tail(5)"
   ]
  },
  {
   "cell_type": "code",
   "execution_count": 75,
   "metadata": {},
   "outputs": [
    {
     "data": {
      "text/plain": [
       "(177, 7)"
      ]
     },
     "execution_count": 75,
     "metadata": {},
     "output_type": "execute_result"
    }
   ],
   "source": [
    "#Checking no. of columns and rows\n",
    "df_nd.shape"
   ]
  },
  {
   "cell_type": "code",
   "execution_count": 76,
   "metadata": {},
   "outputs": [
    {
     "name": "stdout",
     "output_type": "stream",
     "text": [
      "Datatype of  Unnamed: 0 : object \n",
      "\n",
      "Unique entries in  Unnamed: 0 : ['Cool Lime Starbucks Refreshers™ Beverage' 'Ombré Pink Drink'\n",
      " 'Pink Drink' 'Strawberry Acai Starbucks Refreshers™ Beverage'\n",
      " 'Very Berry Hibiscus Starbucks Refreshers™ Beverage' 'Violet Drink'\n",
      " 'Evolution Fresh™ Cold-Pressed Apple Berry Juice'\n",
      " 'Evolution Fresh™ Defense Up' 'Evolution Fresh™ Organic Ginger Limeade'\n",
      " 'Iced Coffee' 'Iced Coffee with Milk'\n",
      " 'Iced Espresso Classics - Vanilla Latte'\n",
      " 'Iced Espresso Classics - Caffe Mocha'\n",
      " 'Iced Espresso Classics - Caramel Macchiato'\n",
      " 'Starbucks® Caramel Iced Coffee' 'Starbucks® Iced Coffee + Milk'\n",
      " 'Starbucks® Low Calorie Iced Coffee + Milk'\n",
      " 'Starbucks® Vanilla Iced Coffee' 'Shaken Sweet Tea'\n",
      " 'Tazo® Bottled Berry Blossom White' 'Tazo® Bottled Black Mango'\n",
      " 'Tazo® Bottled Black with Lemon' 'Tazo® Bottled Brambleberry'\n",
      " 'Tazo® Bottled Giant Peach' 'Tazo® Bottled Iced Passion'\n",
      " 'Tazo® Bottled Lemon Ginger' 'Tazo® Bottled Organic Black Lemonade'\n",
      " 'Tazo® Bottled Organic Iced Black Tea'\n",
      " 'Tazo® Bottled Organic Iced Green Tea' 'Tazo® Bottled Plum Pomegranate'\n",
      " 'Tazo® Bottled Tazoberry' 'Tazo® Bottled White Cranberry'\n",
      " 'Teavana® Shaken Iced Black Tea'\n",
      " 'Teavana® Shaken Iced Black Tea Lemonade'\n",
      " 'Teavana® Shaken Iced Green Tea'\n",
      " 'Teavana® Shaken Iced Green Tea Lemonade'\n",
      " 'Teavana® Shaken Iced Passion Tango™ Tea'\n",
      " 'Teavana® Shaken Iced Passion Tango™ Tea Lemonade'\n",
      " 'Teavana® Shaken Iced Peach Green Tea'\n",
      " 'Iced Espresso Classics - Skinny Caramel Macchiato'\n",
      " 'Iced Espresso Classics - Skinny Vanilla Latte'\n",
      " 'Starbucks Doubleshot® Energy Coffee Drink'\n",
      " 'Starbucks Doubleshot® Energy Mexican Mocha'\n",
      " 'Starbucks Doubleshot® Energy Mocha Drink'\n",
      " 'Starbucks Doubleshot® Energy Vanilla Drink'\n",
      " 'Starbucks Doubleshot® Energy White Chocolate Drink'\n",
      " 'Starbucks Doubleshot® Energy+Cinnamon Dolce Drink'\n",
      " 'Starbucks Doubleshot® Espresso Cubano'\n",
      " 'Starbucks Doubleshot® Espresso Drink'\n",
      " 'Starbucks Doubleshot® Espresso Salted Caramel Cream'\n",
      " 'Starbucks Doubleshot® Light Espresso Drink'\n",
      " 'Starbucks Doubleshot® Protein Caramel'\n",
      " 'Starbucks Refreshers™ Raspberry Pomegranate'\n",
      " 'Starbucks Refreshers™ Strawberry Lemonade'\n",
      " 'Starbucks® Bottled Caramel Frappuccino® Coffee Drink'\n",
      " 'Starbucks® Bottled Coffee Frappuccino® Coffee Drink'\n",
      " 'Starbucks® Bottled Cold Brew Black, Unsweetened'\n",
      " 'Starbucks® Bottled Cold Brew Cocoa and Honey with Cream'\n",
      " 'Starbucks® Bottled Dulce de Leche Frappuccino® Coffee Drink'\n",
      " 'Starbucks® Bottled Mocha Frappuccino® Coffee Drink'\n",
      " 'Starbucks® Bottled Mocha Light Frappuccino® Coffee Drink'\n",
      " \"Starbucks® Bottled S'mores Frappuccino® Coffee Drink\"\n",
      " 'Starbucks® Bottled Vanilla Frappuccino® Coffee Drink'\n",
      " 'Starbucks® Bottled Vanilla Light Frappuccino® Coffee Drink'\n",
      " 'Starbucks® Doubleshot Protein Dark Chocolate'\n",
      " 'Starbucks® Doubleshot Protein Vanilla' 'Starbucks® Iced Coffee Caramel'\n",
      " 'Starbucks® Iced Coffee Light Sweetened'\n",
      " 'Starbucks® Iced Coffee Unsweetened'\n",
      " 'Starbucks® Refreshers™ - Black Cherry Limeade with Coconut Water'\n",
      " 'Teavana® Mango Black Tea' 'Teavana® Passion Tango® Herbal Tea'\n",
      " 'Teavana® Peach Green Tea' 'White Chocolate Mocha Bottled Frappuccino'\n",
      " 'Blonde Roast' 'Caffè Misto' 'Clover® Brewed Coffee' 'Coffee Traveler'\n",
      " 'Decaf Pike Place® Roast' 'Featured Dark Roast' 'Nariño 70 Cold Brew'\n",
      " 'Nariño 70 Cold Brew with Milk' 'Nitro Cold Brew'\n",
      " 'Nitro Cold Brew with Sweet Cream' 'Pike Place® Roast'\n",
      " 'Toasted Coconut Cold Brew' 'Vanilla Sweet Cream Cold Brew'\n",
      " 'Hot Chocolate' 'Starbucks® Signature Hot Chocolate' 'Caffè Americano'\n",
      " 'Caffè Latte' 'Caffè Mocha' 'Cappuccino' 'Caramel Macchiato'\n",
      " 'Cascara Coconutmilk Latte' 'Cinnamon Dolce Latte'\n",
      " 'Coconutmilk Mocha Macchiato' 'Espresso' 'Espresso Con Panna'\n",
      " 'Espresso Macchiato' 'Flat White' 'Iced Caffè Americano'\n",
      " 'Iced Caffè Latte' 'Iced Caffè Mocha' 'Iced Caramel Macchiato'\n",
      " 'Iced Cascara Coconutmilk Latte' 'Iced Cinnamon Dolce Latte'\n",
      " 'Iced Coconutmilk Mocha Macchiato' 'Iced Skinny Cinnamon Dolce Latte'\n",
      " 'Iced Skinny Mocha' 'Iced Vanilla Latte' 'Iced White Chocolate Mocha'\n",
      " 'Latte Macchiato' 'Skinny Mocha' 'Starbucks Doubleshot® on Ice Beverage'\n",
      " 'Vanilla Latte' 'White Chocolate Mocha'\n",
      " 'Caffè Vanilla Frappuccino® Blended Coffee'\n",
      " 'Caffè Vanilla Light Frappuccino® Blended Coffee'\n",
      " 'Caramel Cocoa Cluster Frappuccino® Blended Coffee'\n",
      " 'Caramel Frappuccino® Blended Coffee'\n",
      " 'Caramel Light Frappuccino® Blended Coffee'\n",
      " 'Chai Crème Frappuccino® Blended Crème'\n",
      " 'Cinnamon Dolce Frappuccino® Blended Coffee'\n",
      " 'Cinnamon Dolce Light Frappuccino® Blended Coffee'\n",
      " 'Cinnamon Roll Frappuccino® Blended Coffee'\n",
      " 'Coffee Frappuccino® Blended Coffee'\n",
      " 'Coffee Light Frappuccino® Blended Coffee'\n",
      " 'Cupcake Crème Frappuccino® Blended Crème'\n",
      " 'Green Tea Crème Frappuccino® Blended Crème'\n",
      " 'Java Chip Frappuccino® Blended Coffee'\n",
      " 'Java Chip Light Frappuccino® Blended Coffee'\n",
      " 'Lemon Bar Crème Frappuccino® Blended Crème'\n",
      " 'Midnight Mint Mocha Frappuccino® Blended Coffee'\n",
      " 'Midnight Mint Mocha Frappuccino® Blended Crème'\n",
      " 'Mocha Frappuccino® Blended Coffee'\n",
      " 'Mocha Light Frappuccino® Blended Coffee'\n",
      " 'Oprah Cinnamon Chai Crème Frappuccino® Blended Crème'\n",
      " 'Red Velvet Cake Crème Frappuccino® Blended Crème'\n",
      " \"S'mores Frappuccino® Blended Coffee\"\n",
      " \"S'mores Frappuccino® Blended Crème\"\n",
      " 'Strawberries & Crème Frappuccino® Blended Crème'\n",
      " 'The Pokémon™ GO Frappuccino® Blended Beverage'\n",
      " 'Vanilla Bean Crème Frappuccino® Blended Crème'\n",
      " 'White Chocolate Mocha Frappuccino® Blended Coffee'\n",
      " 'Cinnamon Dolce Crème' 'Organic Chocolate Milk Box' 'Steamed Apple Juice'\n",
      " 'Vanilla Crème' 'Chocolate Smoothie' 'Strawberry Smoothie' 'Ginger Ale'\n",
      " 'Lemon Ale' 'Orange Cream Soda'] \n",
      "\n",
      "No. of unique entries in  Unnamed: 0 : 154 \n",
      "\n",
      "Datatype of  Calories : object \n",
      "\n",
      "Unique entries in  Calories : ['45' '-' '80' '60' '110' '0' '130' '140' '150' '70' '120' '30' '90' '210'\n",
      " '200' '50' '10' '5' '320' '430' '190' '290' '250' '260' '180' '230' '300'\n",
      " '360' '350' '280'] \n",
      "\n",
      "No. of unique entries in  Calories : 30 \n",
      "\n",
      "Datatype of  Fat (g) : object \n",
      "\n",
      "Unique entries in  Fat (g) : ['0' '-' '2.5' '5' '6' '9' '26' '7' '8' '4' '4.5' '1' '11' '0.5' '2'] \n",
      "\n",
      "No. of unique entries in  Fat (g) : 15 \n",
      "\n",
      "Datatype of  Carb. (g) : object \n",
      "\n",
      "Unique entries in  Carb. (g) : ['11' '-' '18' '14' '28' '0' '21' '23' '19' '15' '38' '35' '37' '17' '31'\n",
      " '8' '24' '27' '33' '34' '13' '2' '5' '47' '45' '42' '12' '40' '32' '36'\n",
      " '30' '53' '64' '60'] \n",
      "\n",
      "No. of unique entries in  Carb. (g) : 34 \n",
      "\n",
      "Datatype of  Fiber (g) : object \n",
      "\n",
      "Unique entries in  Fiber (g) : ['0' '-' '1' '2' '4' '5' '8' '7'] \n",
      "\n",
      "No. of unique entries in  Fiber (g) : 8 \n",
      "\n",
      "Datatype of  Protein : object \n",
      "\n",
      "Unique entries in  Protein : ['0' '-' '5' '20' '1' '14' '12' '13' '8' '10' '11' '9' '7' '3' '15' '4'\n",
      " '16'] \n",
      "\n",
      "No. of unique entries in  Protein : 17 \n",
      "\n",
      "Datatype of  Sodium : object \n",
      "\n",
      "Unique entries in  Sodium : ['10' '-' '5' '0' '65' '90' '15' '115' '120' '20' '25' '160' '170' '140'\n",
      " '100' '150' '180' '95' '190' '40' '240' '200' '220' '135' '130'] \n",
      "\n",
      "No. of unique entries in  Sodium : 25 \n",
      "\n"
     ]
    },
    {
     "name": "stderr",
     "output_type": "stream",
     "text": [
      "/tmp/ipykernel_62884/4105468566.py:3: FutureWarning: Series.__getitem__ treating keys as positions is deprecated. In a future version, integer keys will always be treated as labels (consistent with DataFrame behavior). To access a value by position, use `ser.iloc[pos]`\n",
      "  print('Datatype of ', df_nd.columns[i], ':', df_nd.dtypes[i], '\\n')\n",
      "/tmp/ipykernel_62884/4105468566.py:3: FutureWarning: Series.__getitem__ treating keys as positions is deprecated. In a future version, integer keys will always be treated as labels (consistent with DataFrame behavior). To access a value by position, use `ser.iloc[pos]`\n",
      "  print('Datatype of ', df_nd.columns[i], ':', df_nd.dtypes[i], '\\n')\n",
      "/tmp/ipykernel_62884/4105468566.py:3: FutureWarning: Series.__getitem__ treating keys as positions is deprecated. In a future version, integer keys will always be treated as labels (consistent with DataFrame behavior). To access a value by position, use `ser.iloc[pos]`\n",
      "  print('Datatype of ', df_nd.columns[i], ':', df_nd.dtypes[i], '\\n')\n",
      "/tmp/ipykernel_62884/4105468566.py:3: FutureWarning: Series.__getitem__ treating keys as positions is deprecated. In a future version, integer keys will always be treated as labels (consistent with DataFrame behavior). To access a value by position, use `ser.iloc[pos]`\n",
      "  print('Datatype of ', df_nd.columns[i], ':', df_nd.dtypes[i], '\\n')\n",
      "/tmp/ipykernel_62884/4105468566.py:3: FutureWarning: Series.__getitem__ treating keys as positions is deprecated. In a future version, integer keys will always be treated as labels (consistent with DataFrame behavior). To access a value by position, use `ser.iloc[pos]`\n",
      "  print('Datatype of ', df_nd.columns[i], ':', df_nd.dtypes[i], '\\n')\n",
      "/tmp/ipykernel_62884/4105468566.py:3: FutureWarning: Series.__getitem__ treating keys as positions is deprecated. In a future version, integer keys will always be treated as labels (consistent with DataFrame behavior). To access a value by position, use `ser.iloc[pos]`\n",
      "  print('Datatype of ', df_nd.columns[i], ':', df_nd.dtypes[i], '\\n')\n",
      "/tmp/ipykernel_62884/4105468566.py:3: FutureWarning: Series.__getitem__ treating keys as positions is deprecated. In a future version, integer keys will always be treated as labels (consistent with DataFrame behavior). To access a value by position, use `ser.iloc[pos]`\n",
      "  print('Datatype of ', df_nd.columns[i], ':', df_nd.dtypes[i], '\\n')\n"
     ]
    }
   ],
   "source": [
    "#Finding the datatype, unique and number of unique entries in each column\n",
    "for i in range(0, len(df_nd.columns), 1):\n",
    "    print('Datatype of ', df_nd.columns[i], ':', df_nd.dtypes[i], '\\n')\n",
    "    print('Unique entries in ', df_nd.columns[i], ':', df_nd[df_nd.columns[i]].unique(), '\\n')\n",
    "    print('No. of unique entries in ', df_nd.columns[i], ':', df_nd[df_nd.columns[i]].nunique(), '\\n')"
   ]
  },
  {
   "cell_type": "code",
   "execution_count": 77,
   "metadata": {},
   "outputs": [
    {
     "data": {
      "text/plain": [
       "Unnamed: 0    0\n",
       "Calories      0\n",
       "Fat (g)       0\n",
       "Carb. (g)     0\n",
       "Fiber (g)     0\n",
       "Protein       0\n",
       "Sodium        0\n",
       "dtype: int64"
      ]
     },
     "execution_count": 77,
     "metadata": {},
     "output_type": "execute_result"
    }
   ],
   "source": [
    "df_nd.isnull().sum()"
   ]
  },
  {
   "cell_type": "code",
   "execution_count": 78,
   "metadata": {},
   "outputs": [
    {
     "name": "stdout",
     "output_type": "stream",
     "text": [
      "(92, 7)\n"
     ]
    }
   ],
   "source": [
    "#Finding out null values in each column and creating a dataset without it\n",
    "df_nd_new = df_nd\n",
    "for i in range(0, len(df_nd_new.columns), 1):\n",
    "    for j in range(0, len(np.where(df_nd_new[df_nd_new.columns[i]] == '-')), 1):\n",
    "        df_nd_new = df_nd_new.drop(np.where(df_nd_new[df_nd_new.columns[i]] == '-')[j])\n",
    "print(df_nd_new.shape)"
   ]
  },
  {
   "cell_type": "code",
   "execution_count": 79,
   "metadata": {},
   "outputs": [],
   "source": [
    "#Renaming columns\n",
    "df_nd_new = df_nd_new.rename(columns={'Unnamed: 0':'Beverage'})\n",
    "df_nd_new = df_nd_new.rename(columns={'Carb. (g)': 'Carb (g)'})\n",
    "df_nd_new = df_nd_new.rename(columns={'Sodium': 'Sodium (mg)'})"
   ]
  },
  {
   "cell_type": "code",
   "execution_count": 80,
   "metadata": {},
   "outputs": [
    {
     "data": {
      "text/html": [
       "<div>\n",
       "<style scoped>\n",
       "    .dataframe tbody tr th:only-of-type {\n",
       "        vertical-align: middle;\n",
       "    }\n",
       "\n",
       "    .dataframe tbody tr th {\n",
       "        vertical-align: top;\n",
       "    }\n",
       "\n",
       "    .dataframe thead th {\n",
       "        text-align: right;\n",
       "    }\n",
       "</style>\n",
       "<table border=\"1\" class=\"dataframe\">\n",
       "  <thead>\n",
       "    <tr style=\"text-align: right;\">\n",
       "      <th></th>\n",
       "      <th>Beverage</th>\n",
       "      <th>Calories</th>\n",
       "      <th>Fat (g)</th>\n",
       "      <th>Carb (g)</th>\n",
       "      <th>Fiber (g)</th>\n",
       "      <th>Protein</th>\n",
       "      <th>Sodium (mg)</th>\n",
       "    </tr>\n",
       "  </thead>\n",
       "  <tbody>\n",
       "    <tr>\n",
       "      <th>0</th>\n",
       "      <td>Cool Lime Starbucks Refreshers™ Beverage</td>\n",
       "      <td>45</td>\n",
       "      <td>0</td>\n",
       "      <td>11</td>\n",
       "      <td>0</td>\n",
       "      <td>0</td>\n",
       "      <td>10</td>\n",
       "    </tr>\n",
       "    <tr>\n",
       "      <th>3</th>\n",
       "      <td>Strawberry Acai Starbucks Refreshers™ Beverage</td>\n",
       "      <td>80</td>\n",
       "      <td>0</td>\n",
       "      <td>18</td>\n",
       "      <td>1</td>\n",
       "      <td>0</td>\n",
       "      <td>10</td>\n",
       "    </tr>\n",
       "    <tr>\n",
       "      <th>4</th>\n",
       "      <td>Very Berry Hibiscus Starbucks Refreshers™ Beve...</td>\n",
       "      <td>60</td>\n",
       "      <td>0</td>\n",
       "      <td>14</td>\n",
       "      <td>1</td>\n",
       "      <td>0</td>\n",
       "      <td>10</td>\n",
       "    </tr>\n",
       "    <tr>\n",
       "      <th>8</th>\n",
       "      <td>Evolution Fresh™ Organic Ginger Limeade</td>\n",
       "      <td>110</td>\n",
       "      <td>0</td>\n",
       "      <td>28</td>\n",
       "      <td>0</td>\n",
       "      <td>0</td>\n",
       "      <td>5</td>\n",
       "    </tr>\n",
       "    <tr>\n",
       "      <th>9</th>\n",
       "      <td>Iced Coffee</td>\n",
       "      <td>0</td>\n",
       "      <td>0</td>\n",
       "      <td>0</td>\n",
       "      <td>0</td>\n",
       "      <td>0</td>\n",
       "      <td>0</td>\n",
       "    </tr>\n",
       "  </tbody>\n",
       "</table>\n",
       "</div>"
      ],
      "text/plain": [
       "                                            Beverage Calories Fat (g)  \\\n",
       "0           Cool Lime Starbucks Refreshers™ Beverage       45       0   \n",
       "3     Strawberry Acai Starbucks Refreshers™ Beverage       80       0   \n",
       "4  Very Berry Hibiscus Starbucks Refreshers™ Beve...       60       0   \n",
       "8            Evolution Fresh™ Organic Ginger Limeade      110       0   \n",
       "9                                        Iced Coffee        0       0   \n",
       "\n",
       "  Carb (g) Fiber (g) Protein Sodium (mg)  \n",
       "0       11         0       0          10  \n",
       "3       18         1       0          10  \n",
       "4       14         1       0          10  \n",
       "8       28         0       0           5  \n",
       "9        0         0       0           0  "
      ]
     },
     "execution_count": 80,
     "metadata": {},
     "output_type": "execute_result"
    }
   ],
   "source": [
    "df_nd_new.head(5)"
   ]
  },
  {
   "cell_type": "code",
   "execution_count": 81,
   "metadata": {},
   "outputs": [],
   "source": [
    "#Dropping columns\n",
    "df_nd_new = df_nd_new.drop(columns=['Fat (g)'])\n",
    "df_nd_new = df_nd_new.drop(columns=['Sodium (mg)'])"
   ]
  },
  {
   "cell_type": "code",
   "execution_count": 82,
   "metadata": {},
   "outputs": [
    {
     "data": {
      "text/html": [
       "<div>\n",
       "<style scoped>\n",
       "    .dataframe tbody tr th:only-of-type {\n",
       "        vertical-align: middle;\n",
       "    }\n",
       "\n",
       "    .dataframe tbody tr th {\n",
       "        vertical-align: top;\n",
       "    }\n",
       "\n",
       "    .dataframe thead th {\n",
       "        text-align: right;\n",
       "    }\n",
       "</style>\n",
       "<table border=\"1\" class=\"dataframe\">\n",
       "  <thead>\n",
       "    <tr style=\"text-align: right;\">\n",
       "      <th></th>\n",
       "      <th>Beverage</th>\n",
       "      <th>Calories</th>\n",
       "      <th>Carb (g)</th>\n",
       "      <th>Fiber (g)</th>\n",
       "      <th>Protein</th>\n",
       "    </tr>\n",
       "  </thead>\n",
       "  <tbody>\n",
       "    <tr>\n",
       "      <th>0</th>\n",
       "      <td>Cool Lime Starbucks Refreshers™ Beverage</td>\n",
       "      <td>45</td>\n",
       "      <td>11</td>\n",
       "      <td>0</td>\n",
       "      <td>0</td>\n",
       "    </tr>\n",
       "    <tr>\n",
       "      <th>3</th>\n",
       "      <td>Strawberry Acai Starbucks Refreshers™ Beverage</td>\n",
       "      <td>80</td>\n",
       "      <td>18</td>\n",
       "      <td>1</td>\n",
       "      <td>0</td>\n",
       "    </tr>\n",
       "    <tr>\n",
       "      <th>4</th>\n",
       "      <td>Very Berry Hibiscus Starbucks Refreshers™ Beve...</td>\n",
       "      <td>60</td>\n",
       "      <td>14</td>\n",
       "      <td>1</td>\n",
       "      <td>0</td>\n",
       "    </tr>\n",
       "    <tr>\n",
       "      <th>8</th>\n",
       "      <td>Evolution Fresh™ Organic Ginger Limeade</td>\n",
       "      <td>110</td>\n",
       "      <td>28</td>\n",
       "      <td>0</td>\n",
       "      <td>0</td>\n",
       "    </tr>\n",
       "    <tr>\n",
       "      <th>9</th>\n",
       "      <td>Iced Coffee</td>\n",
       "      <td>0</td>\n",
       "      <td>0</td>\n",
       "      <td>0</td>\n",
       "      <td>0</td>\n",
       "    </tr>\n",
       "  </tbody>\n",
       "</table>\n",
       "</div>"
      ],
      "text/plain": [
       "                                            Beverage Calories Carb (g)  \\\n",
       "0           Cool Lime Starbucks Refreshers™ Beverage       45       11   \n",
       "3     Strawberry Acai Starbucks Refreshers™ Beverage       80       18   \n",
       "4  Very Berry Hibiscus Starbucks Refreshers™ Beve...       60       14   \n",
       "8            Evolution Fresh™ Organic Ginger Limeade      110       28   \n",
       "9                                        Iced Coffee        0        0   \n",
       "\n",
       "  Fiber (g) Protein  \n",
       "0         0       0  \n",
       "3         1       0  \n",
       "4         1       0  \n",
       "8         0       0  \n",
       "9         0       0  "
      ]
     },
     "execution_count": 82,
     "metadata": {},
     "output_type": "execute_result"
    }
   ],
   "source": [
    "df_nd_new.head(5)"
   ]
  },
  {
   "cell_type": "code",
   "execution_count": 83,
   "metadata": {},
   "outputs": [
    {
     "name": "stdout",
     "output_type": "stream",
     "text": [
      "Minimum of column  2 :  0\n",
      "Maximum of column  2 :  430\n",
      "Mean of column  2 :  135.16304347826087\n",
      "Standard deviation of column  2 :  93.85355405213949\n",
      "Variance of column  2 :  8808.48960821787\n",
      "Sum of column  2 :  12435\n",
      "\n",
      "\n",
      "Minimum of column  3 :  0\n",
      "Maximum of column  3 :  64\n",
      "Mean of column  3 :  24.73913043478261\n",
      "Standard deviation of column  3 :  15.214849286009592\n",
      "Variance of column  3 :  231.4916387959866\n",
      "Sum of column  3 :  2276\n",
      "\n",
      "\n",
      "Minimum of column  4 :  0\n",
      "Maximum of column  4 :  8\n",
      "Mean of column  4 :  0.44565217391304346\n",
      "Standard deviation of column  4 :  1.4170401782230873\n",
      "Variance of column  4 :  2.008002866698519\n",
      "Sum of column  4 :  41\n",
      "\n",
      "\n",
      "Minimum of column  5 :  0\n",
      "Maximum of column  5 :  20\n",
      "Mean of column  5 :  4.1521739130434785\n",
      "Standard deviation of column  5 :  5.691587743885265\n",
      "Variance of column  5 :  32.39417104634496\n",
      "Sum of column  5 :  382\n",
      "\n",
      "\n"
     ]
    }
   ],
   "source": [
    "#Finding the Minumum, Maximum, Mean, Standard Deviation, Variance and Sum of that each column with numerical values\n",
    "for i in range(1, len(df_nd_new.columns)):\n",
    "    df_nd_num = pd.to_numeric(df_nd_new[df_nd_new.columns[i]])\n",
    "    print('Minimum of column ', i+1, ': ', df_nd_num.min())\n",
    "    print('Maximum of column ', i+1, ': ', df_nd_num.max())\n",
    "    print('Mean of column ', i+1, ': ', df_nd_num.mean())\n",
    "    print('Standard deviation of column ', i+1, ': ', df_nd_num.std())\n",
    "    print('Variance of column ', i+1, ': ', df_nd_num.var())\n",
    "    print('Sum of column ', i+1, ': ', df_nd_num.sum())\n",
    "    print('\\n')"
   ]
  },
  {
   "cell_type": "code",
   "execution_count": 86,
   "metadata": {},
   "outputs": [],
   "source": [
    "#Randomly sampling 50% of new data \n",
    "df_nd_split1 = df_nd_new.sample(frac = 0.5)\n",
    "df_nd_split2 = df_nd_new\n",
    "for i in df_nd_split1.index:\n",
    "    df_nd_split2 = df_nd_split2.drop(i)"
   ]
  },
  {
   "cell_type": "code",
   "execution_count": 87,
   "metadata": {},
   "outputs": [],
   "source": [
    "#Randomly sampling 50% of each split\n",
    "df_nd_random1 = df_nd_split1.sample(frac = 0.5)\n",
    "df_nd_random2 = df_nd_split1\n",
    "for i in df_nd_random1.index:\n",
    "    df_nd_random2 = df_nd_random2.drop(i)"
   ]
  },
  {
   "cell_type": "code",
   "execution_count": 88,
   "metadata": {},
   "outputs": [],
   "source": [
    "df_nd_random3 = df_nd_split2.sample(frac = 0.5)\n",
    "df_nd_random4 = df_nd_split2\n",
    "for i in df_nd_random3.index:\n",
    "    df_nd_random4 = df_nd_random4.drop(i)"
   ]
  },
  {
   "cell_type": "code",
   "execution_count": 89,
   "metadata": {},
   "outputs": [
    {
     "data": {
      "text/plain": [
       "(array([89., 12., 24., 13.,  8., 10.,  7.,  7.,  4.,  3.]),\n",
       " array([ 0. ,  2.9,  5.8,  8.7, 11.6, 14.5, 17.4, 20.3, 23.2, 26.1, 29. ]),\n",
       " <BarContainer object of 10 artists>)"
      ]
     },
     "execution_count": 89,
     "metadata": {},
     "output_type": "execute_result"
    },
    {
     "data": {
      "image/png": "[encoded data removed]",
      "text/plain": [
       "<Figure size 640x480 with 1 Axes>"
      ]
     },
     "metadata": {},
     "output_type": "display_data"
    }
   ],
   "source": [
    "#creating histogram\n",
    "plt.hist(df_nd['Calories'], bins = 10)"
   ]
  },
  {
   "cell_type": "code",
   "execution_count": 90,
   "metadata": {},
   "outputs": [
    {
     "data": {
      "text/plain": [
       "(array([91., 18., 11., 23.,  9.,  6.,  7.,  3.,  3.,  6.]),\n",
       " array([ 0. ,  3.3,  6.6,  9.9, 13.2, 16.5, 19.8, 23.1, 26.4, 29.7, 33. ]),\n",
       " <BarContainer object of 10 artists>)"
      ]
     },
     "execution_count": 90,
     "metadata": {},
     "output_type": "execute_result"
    },
    {
     "data": {
      "image/png": "[encoded data removed]",
      "text/plain": [
       "<Figure size 640x480 with 1 Axes>"
      ]
     },
     "metadata": {},
     "output_type": "display_data"
    }
   ],
   "source": [
    "plt.hist(df_nd['Carb. (g)'], bins = 10)"
   ]
  },
  {
   "cell_type": "code",
   "execution_count": 91,
   "metadata": {},
   "outputs": [
    {
     "data": {
      "text/plain": [
       "<Axes: ylabel='Sodium'>"
      ]
     },
     "execution_count": 91,
     "metadata": {},
     "output_type": "execute_result"
    },
    {
     "data": {
      "image/png": "[encoded data removed]",
      "text/plain": [
       "<Figure size 640x480 with 1 Axes>"
      ]
     },
     "metadata": {},
     "output_type": "display_data"
    }
   ],
   "source": [
    "#Creating a boxplot\n",
    "sns.boxplot(df_nd['Sodium'])"
   ]
  },
  {
   "cell_type": "code",
   "execution_count": 92,
   "metadata": {},
   "outputs": [
    {
     "data": {
      "text/plain": [
       "<Axes: ylabel='Fat (g)'>"
      ]
     },
     "execution_count": 92,
     "metadata": {},
     "output_type": "execute_result"
    },
    {
     "data": {
      "image/png": "[encoded data removed]",
      "text/plain": [
       "<Figure size 640x480 with 1 Axes>"
      ]
     },
     "metadata": {},
     "output_type": "display_data"
    }
   ],
   "source": [
    "sns.boxplot(df_nd['Fat (g)'])"
   ]
  }
 ],
 "metadata": {
  "kernelspec": {
   "display_name": "data-science",
   "language": "python",
   "name": "python3"
  },
  "language_info": {
   "codemirror_mode": {
    "name": "ipython",
    "version": 3
   },
   "file_extension": ".py",
   "mimetype": "text/x-python",
   "name": "python",
   "nbconvert_exporter": "python",
   "pygments_lexer": "ipython3",
   "version": "3.9.18"
  }
 },
 "nbformat": 4,
 "nbformat_minor": 2
}
