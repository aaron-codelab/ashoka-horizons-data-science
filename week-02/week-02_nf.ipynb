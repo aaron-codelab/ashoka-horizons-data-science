{
 "cells": [
  {
   "cell_type": "code",
   "execution_count": 1,
   "metadata": {},
   "outputs": [],
   "source": [
    "import pandas as pd\n",
    "import numpy as np\n",
    "import matplotlib.pyplot as plt\n",
    "import seaborn as sns"
   ]
  },
  {
   "cell_type": "code",
   "execution_count": 2,
   "metadata": {},
   "outputs": [],
   "source": [
    "#Loading the csv files as a dataframe\n",
    "df_nf = pd.read_csv('nutrition-food.csv', encoding='UTF-16')"
   ]
  },
  {
   "cell_type": "code",
   "execution_count": 3,
   "metadata": {},
   "outputs": [
    {
     "data": {
      "text/html": [
       "<div>\n",
       "<style scoped>\n",
       "    .dataframe tbody tr th:only-of-type {\n",
       "        vertical-align: middle;\n",
       "    }\n",
       "\n",
       "    .dataframe tbody tr th {\n",
       "        vertical-align: top;\n",
       "    }\n",
       "\n",
       "    .dataframe thead th {\n",
       "        text-align: right;\n",
       "    }\n",
       "</style>\n",
       "<table border=\"1\" class=\"dataframe\">\n",
       "  <thead>\n",
       "    <tr style=\"text-align: right;\">\n",
       "      <th></th>\n",
       "      <th>Name</th>\n",
       "      <th>Calories</th>\n",
       "      <th>Fat (g)</th>\n",
       "      <th>Carb. (g)</th>\n",
       "      <th>Fiber (g)</th>\n",
       "      <th>Protein (g)</th>\n",
       "    </tr>\n",
       "  </thead>\n",
       "  <tbody>\n",
       "    <tr>\n",
       "      <th>0</th>\n",
       "      <td>Chonga Bagel</td>\n",
       "      <td>300</td>\n",
       "      <td>5.0</td>\n",
       "      <td>50</td>\n",
       "      <td>3</td>\n",
       "      <td>12</td>\n",
       "    </tr>\n",
       "    <tr>\n",
       "      <th>1</th>\n",
       "      <td>8-Grain Roll</td>\n",
       "      <td>380</td>\n",
       "      <td>6.0</td>\n",
       "      <td>70</td>\n",
       "      <td>7</td>\n",
       "      <td>10</td>\n",
       "    </tr>\n",
       "    <tr>\n",
       "      <th>2</th>\n",
       "      <td>Almond Croissant</td>\n",
       "      <td>410</td>\n",
       "      <td>22.0</td>\n",
       "      <td>45</td>\n",
       "      <td>3</td>\n",
       "      <td>10</td>\n",
       "    </tr>\n",
       "    <tr>\n",
       "      <th>3</th>\n",
       "      <td>Apple Fritter</td>\n",
       "      <td>460</td>\n",
       "      <td>23.0</td>\n",
       "      <td>56</td>\n",
       "      <td>2</td>\n",
       "      <td>7</td>\n",
       "    </tr>\n",
       "    <tr>\n",
       "      <th>4</th>\n",
       "      <td>Banana Nut Bread</td>\n",
       "      <td>420</td>\n",
       "      <td>22.0</td>\n",
       "      <td>52</td>\n",
       "      <td>2</td>\n",
       "      <td>6</td>\n",
       "    </tr>\n",
       "  </tbody>\n",
       "</table>\n",
       "</div>"
      ],
      "text/plain": [
       "               Name   Calories   Fat (g)   Carb. (g)   Fiber (g)   Protein (g)\n",
       "0      Chonga Bagel        300       5.0          50           3            12\n",
       "1      8-Grain Roll        380       6.0          70           7            10\n",
       "2  Almond Croissant        410      22.0          45           3            10\n",
       "3     Apple Fritter        460      23.0          56           2             7\n",
       "4  Banana Nut Bread        420      22.0          52           2             6"
      ]
     },
     "execution_count": 3,
     "metadata": {},
     "output_type": "execute_result"
    }
   ],
   "source": [
    "#Showing top 5 entries\n",
    "df_nf.head(5)"
   ]
  },
  {
   "cell_type": "code",
   "execution_count": 5,
   "metadata": {},
   "outputs": [
    {
     "data": {
      "text/html": [
       "<div>\n",
       "<style scoped>\n",
       "    .dataframe tbody tr th:only-of-type {\n",
       "        vertical-align: middle;\n",
       "    }\n",
       "\n",
       "    .dataframe tbody tr th {\n",
       "        vertical-align: top;\n",
       "    }\n",
       "\n",
       "    .dataframe thead th {\n",
       "        text-align: right;\n",
       "    }\n",
       "</style>\n",
       "<table border=\"1\" class=\"dataframe\">\n",
       "  <thead>\n",
       "    <tr style=\"text-align: right;\">\n",
       "      <th></th>\n",
       "      <th>Name</th>\n",
       "      <th>Calories</th>\n",
       "      <th>Fat (g)</th>\n",
       "      <th>Carb. (g)</th>\n",
       "      <th>Fiber (g)</th>\n",
       "      <th>Protein (g)</th>\n",
       "    </tr>\n",
       "  </thead>\n",
       "  <tbody>\n",
       "    <tr>\n",
       "      <th>108</th>\n",
       "      <td>Justin's Chocolate Hazelnut Butter</td>\n",
       "      <td>180</td>\n",
       "      <td>14.0</td>\n",
       "      <td>12</td>\n",
       "      <td>3</td>\n",
       "      <td>4</td>\n",
       "    </tr>\n",
       "    <tr>\n",
       "      <th>109</th>\n",
       "      <td>Justin's Classic Almond Butter</td>\n",
       "      <td>190</td>\n",
       "      <td>18.0</td>\n",
       "      <td>6</td>\n",
       "      <td>3</td>\n",
       "      <td>7</td>\n",
       "    </tr>\n",
       "    <tr>\n",
       "      <th>110</th>\n",
       "      <td>Lemon Chiffon Yogurt</td>\n",
       "      <td>340</td>\n",
       "      <td>13.0</td>\n",
       "      <td>38</td>\n",
       "      <td>0</td>\n",
       "      <td>18</td>\n",
       "    </tr>\n",
       "    <tr>\n",
       "      <th>111</th>\n",
       "      <td>Organic Avocado (Spread)</td>\n",
       "      <td>90</td>\n",
       "      <td>8.0</td>\n",
       "      <td>5</td>\n",
       "      <td>4</td>\n",
       "      <td>1</td>\n",
       "    </tr>\n",
       "    <tr>\n",
       "      <th>112</th>\n",
       "      <td>Seasonal Fruit Blend</td>\n",
       "      <td>90</td>\n",
       "      <td>0.0</td>\n",
       "      <td>24</td>\n",
       "      <td>4</td>\n",
       "      <td>1</td>\n",
       "    </tr>\n",
       "  </tbody>\n",
       "</table>\n",
       "</div>"
      ],
      "text/plain": [
       "                                   Name   Calories   Fat (g)   Carb. (g)  \\\n",
       "108  Justin's Chocolate Hazelnut Butter        180      14.0          12   \n",
       "109      Justin's Classic Almond Butter        190      18.0           6   \n",
       "110                Lemon Chiffon Yogurt        340      13.0          38   \n",
       "111            Organic Avocado (Spread)         90       8.0           5   \n",
       "112                Seasonal Fruit Blend         90       0.0          24   \n",
       "\n",
       "      Fiber (g)   Protein (g)  \n",
       "108           3             4  \n",
       "109           3             7  \n",
       "110           0            18  \n",
       "111           4             1  \n",
       "112           4             1  "
      ]
     },
     "execution_count": 5,
     "metadata": {},
     "output_type": "execute_result"
    }
   ],
   "source": [
    "#Showing bottom 5 entries\n",
    "df_nf.tail(5)"
   ]
  },
  {
   "cell_type": "code",
   "execution_count": 6,
   "metadata": {},
   "outputs": [
    {
     "data": {
      "text/plain": [
       "(113, 6)"
      ]
     },
     "execution_count": 6,
     "metadata": {},
     "output_type": "execute_result"
    }
   ],
   "source": [
    "#Checking no. of columns and rows\n",
    "df_nf.shape"
   ]
  },
  {
   "cell_type": "code",
   "execution_count": 7,
   "metadata": {},
   "outputs": [
    {
     "name": "stdout",
     "output_type": "stream",
     "text": [
      "Datatype of  Name : object \n",
      "\n",
      "Unique entries in  Name : ['Chonga Bagel' '8-Grain Roll' 'Almond Croissant' 'Apple Fritter'\n",
      " 'Banana Nut Bread' 'Blueberry Muffin with Yogurt and Honey'\n",
      " 'Blueberry Scone' 'Butter Croissant' 'Butterfly Cookie' 'Cheese Danish'\n",
      " 'Chewy Chocolate Cookie' 'Chocolate Chip Cookie' 'Chocolate Chunk Muffin'\n",
      " 'Chocolate Croissant' 'Chocolate Hazelnut Croissant'\n",
      " 'Chocolate Marble Loaf Cake' 'Cinnamon Morning Bun'\n",
      " 'Cinnamon Raisin Bagel' 'Classic Coffee Cake' 'Cookie Butter Bar'\n",
      " 'Cranberry Orange Scone' \"Devil's Food Doughnut\"\n",
      " 'Double Chocolate Brownie' 'Double Chocolate Chunk Brownie'\n",
      " 'Double Chocolate Loaf Cake'\n",
      " \"Everybody's Favorite - Bantam Bagel (2 Pack)\"\n",
      " 'Everything Bagel with Cheese' 'Frappuccino Cookie Straw'\n",
      " 'French Toast - Bantam Bagels (2 Pack)'\n",
      " 'Gluten-Free Marshmallow Dream Bar' 'Ice Cream Cone Sugar Cookie'\n",
      " 'Iced Lemon Pound Cake' 'Michigan Cherry Oat Bar' 'Multigrain Bagel'\n",
      " 'Oatmeal Cookie' 'Octopus Cookie' 'Old-Fashioned Glazed Doughnut'\n",
      " 'Peanut butter cup cookie' 'Pecan Tart' 'Petite Vanilla Bean Scone'\n",
      " 'Plain Bagel' 'Pumpkin Bread' 'Raspberry Swirl Loaf Cake'\n",
      " 'Raspberry Whoopie Pie' 'Reduced-Fat Cinnamon Swirl Coffee Cake'\n",
      " \"S'mores Bar\" \"S'mores Bar Multipack\" 'Sprouted Grain Vegan Bagel'\n",
      " 'Strawberry Cake Pop' 'The Classic - Bantam Bagels (2 Pack)'\n",
      " 'Toffeedoodle' 'Vanilla Bean Whoopie Pie' 'Vermont Maple Walnut Muffin'\n",
      " 'Volpi™ Pepperoni & Tomato Savory Foldover' 'Strawberries & Jam Sandwich'\n",
      " 'Burrata & Basil Pesto Small Sandwich'\n",
      " 'Cage-Free Eggs & Seasoned Grains Side Salad'\n",
      " 'Cauliflower Tabbouleh Side Salad' 'Cubano Sandwich'\n",
      " \"Farmers' Market Protein Box\"\n",
      " 'Garden Greens & Shaved Parmesan Side Salad'\n",
      " 'Green Goddess Avocado Salad'\n",
      " 'Herbed Chicken & Fig Spread Small Sandwich'\n",
      " 'Honey BBQ Sriracha Chicken Sandwich' 'Roasted Carrot & Kale Side Salad'\n",
      " 'Roasted Turkey & Dill Havarti Sandwich'\n",
      " 'Seared Steak & Cheddar Sandwich'\n",
      " \"Slow-Roasted Ham & Beecher's Flagship Cheese Small Sandwich\"\n",
      " 'Smoked Mozzarella & Roasted Pepper Sandwich'\n",
      " 'Turkey & Fire-Roasted Corn Salad' \"Za'atar Chicken & Lemon Tahini Salad\"\n",
      " 'BBQ Chicken Protein Box' 'Cheese & Fruit Protein Box'\n",
      " 'Chicken Wrap Protein Box' 'Eggs & Cheese Protein Box' 'PB&J Protein Box'\n",
      " 'Smoked Turkey Protein Box' 'Birthday Cake Pop' 'Chocolate Cake Pop'\n",
      " 'Chocolate Chip Cookie Dough Cake Pop' 'Pirate Cake Pop'\n",
      " 'Bacon Gouda & Egg Breakfast Sandwich'\n",
      " 'Certified Gluten-Free Breakfast Sandwich' 'Classic Whole-Grain Oatmeal'\n",
      " 'Double-Smoked Bacon Cheddar & Egg Sandwich' 'Ham & Cheese Croissant'\n",
      " 'Hearty Blueberry Oatmeal'\n",
      " 'Reduced-Fat Turkey Bacon & Cage Free Egg White Breakfast Sandwich'\n",
      " 'Sausage Cheddar & Egg Breakfast Sandwich'\n",
      " 'Seared Steak Egg & Tomatillo Wrap'\n",
      " 'Slow-Roasted Ham Swiss & Egg Breakfast Sandwich'\n",
      " 'Sous Vide Egg Bites: Bacon & Gruyere'\n",
      " 'Sous Vide Egg Bites: Egg White & Red Pepper'\n",
      " 'Spicy Chorizo  Monterey Jack & Egg Breakfast Sandwich'\n",
      " 'Spinach Feta & Cage Free Egg White Breakfast Wrap'\n",
      " 'Ancho Chipotle Chicken Panini '\n",
      " 'Chicken & Quinoa Protein Bowl with Black Beans and Greens'\n",
      " 'Chicken Artichoke on Ancient Grain Flatbread'\n",
      " 'Chicken BLT Salad Sandwich' 'Egg Salad Sandwich'\n",
      " 'Homestyle Chicken & Double-Smoked Bacon'\n",
      " 'Italian-Style Ham & Spicy Salami'\n",
      " 'Lentils & Vegetable Protein Bowl with Brown Rice'\n",
      " 'Roasted Tomato & Mozzarella Panini' 'Turkey & Havarti Sandwich'\n",
      " 'Turkey Pesto Panini' 'Berry Trio Yogurt'\n",
      " 'Fresh Blueberries and Honey Greek Yogurt Parfait'\n",
      " \"Justin's Chocolate Hazelnut Butter\" \"Justin's Classic Almond Butter\"\n",
      " 'Lemon Chiffon Yogurt' 'Organic Avocado (Spread)' 'Seasonal Fruit Blend'] \n",
      "\n",
      "No. of unique entries in  Name : 113 \n",
      "\n",
      "Datatype of   Calories : int64 \n",
      "\n",
      "Unique entries in   Calories : [300 380 410 460 420 240 350 320 170 310 440 330 390 490 270 360 430 100\n",
      " 290  90 200 250 470 480 120 280 370 180 600 130 620 530 500 560 570 450\n",
      " 520 160 220 230 510 650 190 340] \n",
      "\n",
      "No. of unique entries in   Calories : 44 \n",
      "\n",
      "Datatype of   Fat (g) : float64 \n",
      "\n",
      "Unique entries in   Fat (g) : [ 5.   6.  22.  23.  16.  17.  12.  15.  21.  18.  24.   1.  28.   3.5\n",
      "  3.   8.  14.  20.  10.   4.  27.   4.5  1.5  9.  13.  25.  29.  37.\n",
      "  7.  26.  32.  19.   2.5 30.   0. ] \n",
      "\n",
      "No. of unique entries in   Fat (g) : 35 \n",
      "\n",
      "Datatype of   Carb. (g) : int64 \n",
      "\n",
      "Unique entries in   Carb. (g) : [50 70 45 56 52 53 61 28 38 36 30 42 60 43 64 58 57 46 55 54 14 29 68 47\n",
      " 40 39 18 63 67 44 23 27 80 34 33  7  9 62 31 49 24 32 41 13 35 37 12  6\n",
      "  5] \n",
      "\n",
      "No. of unique entries in   Carb. (g) : 49 \n",
      "\n",
      "Datatype of   Fiber (g) : int64 \n",
      "\n",
      "Unique entries in   Fiber (g) : [ 3  7  2  1  0  8 10  4  6 11  5  9 21] \n",
      "\n",
      "No. of unique entries in   Fiber (g) : 13 \n",
      "\n",
      "Datatype of   Protein (g) : int64 \n",
      "\n",
      "Unique entries in   Protein (g) : [12 10  7  6  5  2  8  4  9  3 11  1 17 19 21 13 22 32 23 16 18 24 27 20\n",
      " 14 15 26 29 34] \n",
      "\n",
      "No. of unique entries in   Protein (g) : 29 \n",
      "\n"
     ]
    },
    {
     "name": "stderr",
     "output_type": "stream",
     "text": [
      "/tmp/ipykernel_137360/2435844460.py:3: FutureWarning: Series.__getitem__ treating keys as positions is deprecated. In a future version, integer keys will always be treated as labels (consistent with DataFrame behavior). To access a value by position, use `ser.iloc[pos]`\n",
      "  print('Datatype of ', df_nf.columns[i], ':', df_nf.dtypes[i], '\\n')\n",
      "/tmp/ipykernel_137360/2435844460.py:3: FutureWarning: Series.__getitem__ treating keys as positions is deprecated. In a future version, integer keys will always be treated as labels (consistent with DataFrame behavior). To access a value by position, use `ser.iloc[pos]`\n",
      "  print('Datatype of ', df_nf.columns[i], ':', df_nf.dtypes[i], '\\n')\n",
      "/tmp/ipykernel_137360/2435844460.py:3: FutureWarning: Series.__getitem__ treating keys as positions is deprecated. In a future version, integer keys will always be treated as labels (consistent with DataFrame behavior). To access a value by position, use `ser.iloc[pos]`\n",
      "  print('Datatype of ', df_nf.columns[i], ':', df_nf.dtypes[i], '\\n')\n",
      "/tmp/ipykernel_137360/2435844460.py:3: FutureWarning: Series.__getitem__ treating keys as positions is deprecated. In a future version, integer keys will always be treated as labels (consistent with DataFrame behavior). To access a value by position, use `ser.iloc[pos]`\n",
      "  print('Datatype of ', df_nf.columns[i], ':', df_nf.dtypes[i], '\\n')\n",
      "/tmp/ipykernel_137360/2435844460.py:3: FutureWarning: Series.__getitem__ treating keys as positions is deprecated. In a future version, integer keys will always be treated as labels (consistent with DataFrame behavior). To access a value by position, use `ser.iloc[pos]`\n",
      "  print('Datatype of ', df_nf.columns[i], ':', df_nf.dtypes[i], '\\n')\n",
      "/tmp/ipykernel_137360/2435844460.py:3: FutureWarning: Series.__getitem__ treating keys as positions is deprecated. In a future version, integer keys will always be treated as labels (consistent with DataFrame behavior). To access a value by position, use `ser.iloc[pos]`\n",
      "  print('Datatype of ', df_nf.columns[i], ':', df_nf.dtypes[i], '\\n')\n"
     ]
    }
   ],
   "source": [
    "#Finding the datatype, unique and number of unique entries in each column\n",
    "for i in range(0, len(df_nf.columns), 1):\n",
    "    print('Datatype of ', df_nf.columns[i], ':', df_nf.dtypes[i], '\\n')\n",
    "    print('Unique entries in ', df_nf.columns[i], ':', df_nf[df_nf.columns[i]].unique(), '\\n')\n",
    "    print('No. of unique entries in ', df_nf.columns[i], ':', df_nf[df_nf.columns[i]].nunique(), '\\n')"
   ]
  },
  {
   "cell_type": "code",
   "execution_count": 8,
   "metadata": {},
   "outputs": [
    {
     "data": {
      "text/plain": [
       "Name            0\n",
       " Calories       0\n",
       " Fat (g)        0\n",
       " Carb. (g)      0\n",
       " Fiber (g)      0\n",
       " Protein (g)    0\n",
       "dtype: int64"
      ]
     },
     "execution_count": 8,
     "metadata": {},
     "output_type": "execute_result"
    }
   ],
   "source": [
    "df_nf.isnull().sum()"
   ]
  },
  {
   "cell_type": "code",
   "execution_count": 10,
   "metadata": {},
   "outputs": [
    {
     "name": "stdout",
     "output_type": "stream",
     "text": [
      "(113, 6)\n"
     ]
    }
   ],
   "source": [
    "#Finding out null values in each column and creating a dataset without it\n",
    "df_nf_new = df_nf\n",
    "for i in range(0, len(df_nf_new.columns), 1):\n",
    "    for j in range(0, len(df_nf_new[df_nf_new[df_nf_new.columns[i]].isnull()].index), 1):\n",
    "        df_nf_new = df_nf_new.drop(df_nf_new[df_nf_new[df_nf_new.columns[i]].isnull()].index[j])\n",
    "print(df_nf_new.shape)"
   ]
  },
  {
   "cell_type": "code",
   "execution_count": 19,
   "metadata": {},
   "outputs": [],
   "source": [
    "#Renaming columns\n",
    "df_nf_new = df_nf_new.rename(columns={' Protein (g)':'Protein (g)'})\n",
    "df_nf_new = df_nf_new.rename(columns={' Carb. (g)': 'Carb (g)'})\n",
    "df_nf_new = df_nf_new.rename(columns={' Fiber (g)': 'Fiber (g)'})"
   ]
  },
  {
   "cell_type": "code",
   "execution_count": 20,
   "metadata": {},
   "outputs": [
    {
     "data": {
      "text/html": [
       "<div>\n",
       "<style scoped>\n",
       "    .dataframe tbody tr th:only-of-type {\n",
       "        vertical-align: middle;\n",
       "    }\n",
       "\n",
       "    .dataframe tbody tr th {\n",
       "        vertical-align: top;\n",
       "    }\n",
       "\n",
       "    .dataframe thead th {\n",
       "        text-align: right;\n",
       "    }\n",
       "</style>\n",
       "<table border=\"1\" class=\"dataframe\">\n",
       "  <thead>\n",
       "    <tr style=\"text-align: right;\">\n",
       "      <th></th>\n",
       "      <th>Name</th>\n",
       "      <th>Calories</th>\n",
       "      <th>Fat (g)</th>\n",
       "      <th>Carb (g)</th>\n",
       "      <th>Fiber (g)</th>\n",
       "      <th>Protein (g)</th>\n",
       "    </tr>\n",
       "  </thead>\n",
       "  <tbody>\n",
       "    <tr>\n",
       "      <th>0</th>\n",
       "      <td>Chonga Bagel</td>\n",
       "      <td>300</td>\n",
       "      <td>5.0</td>\n",
       "      <td>50</td>\n",
       "      <td>3</td>\n",
       "      <td>12</td>\n",
       "    </tr>\n",
       "    <tr>\n",
       "      <th>1</th>\n",
       "      <td>8-Grain Roll</td>\n",
       "      <td>380</td>\n",
       "      <td>6.0</td>\n",
       "      <td>70</td>\n",
       "      <td>7</td>\n",
       "      <td>10</td>\n",
       "    </tr>\n",
       "    <tr>\n",
       "      <th>2</th>\n",
       "      <td>Almond Croissant</td>\n",
       "      <td>410</td>\n",
       "      <td>22.0</td>\n",
       "      <td>45</td>\n",
       "      <td>3</td>\n",
       "      <td>10</td>\n",
       "    </tr>\n",
       "    <tr>\n",
       "      <th>3</th>\n",
       "      <td>Apple Fritter</td>\n",
       "      <td>460</td>\n",
       "      <td>23.0</td>\n",
       "      <td>56</td>\n",
       "      <td>2</td>\n",
       "      <td>7</td>\n",
       "    </tr>\n",
       "    <tr>\n",
       "      <th>4</th>\n",
       "      <td>Banana Nut Bread</td>\n",
       "      <td>420</td>\n",
       "      <td>22.0</td>\n",
       "      <td>52</td>\n",
       "      <td>2</td>\n",
       "      <td>6</td>\n",
       "    </tr>\n",
       "  </tbody>\n",
       "</table>\n",
       "</div>"
      ],
      "text/plain": [
       "               Name   Calories   Fat (g)  Carb (g)  Fiber (g)  Protein (g)\n",
       "0      Chonga Bagel        300       5.0        50          3           12\n",
       "1      8-Grain Roll        380       6.0        70          7           10\n",
       "2  Almond Croissant        410      22.0        45          3           10\n",
       "3     Apple Fritter        460      23.0        56          2            7\n",
       "4  Banana Nut Bread        420      22.0        52          2            6"
      ]
     },
     "execution_count": 20,
     "metadata": {},
     "output_type": "execute_result"
    }
   ],
   "source": [
    "df_nf_new.head(5)"
   ]
  },
  {
   "cell_type": "code",
   "execution_count": 21,
   "metadata": {},
   "outputs": [],
   "source": [
    "#Dropping columns\n",
    "df_nf_new = df_nf_new.drop(columns=['Fiber (g)'])\n",
    "df_nf_new = df_nf_new.drop(columns=['Protein (g)'])"
   ]
  },
  {
   "cell_type": "code",
   "execution_count": 22,
   "metadata": {},
   "outputs": [
    {
     "data": {
      "text/html": [
       "<div>\n",
       "<style scoped>\n",
       "    .dataframe tbody tr th:only-of-type {\n",
       "        vertical-align: middle;\n",
       "    }\n",
       "\n",
       "    .dataframe tbody tr th {\n",
       "        vertical-align: top;\n",
       "    }\n",
       "\n",
       "    .dataframe thead th {\n",
       "        text-align: right;\n",
       "    }\n",
       "</style>\n",
       "<table border=\"1\" class=\"dataframe\">\n",
       "  <thead>\n",
       "    <tr style=\"text-align: right;\">\n",
       "      <th></th>\n",
       "      <th>Name</th>\n",
       "      <th>Calories</th>\n",
       "      <th>Fat (g)</th>\n",
       "      <th>Carb (g)</th>\n",
       "    </tr>\n",
       "  </thead>\n",
       "  <tbody>\n",
       "    <tr>\n",
       "      <th>0</th>\n",
       "      <td>Chonga Bagel</td>\n",
       "      <td>300</td>\n",
       "      <td>5.0</td>\n",
       "      <td>50</td>\n",
       "    </tr>\n",
       "    <tr>\n",
       "      <th>1</th>\n",
       "      <td>8-Grain Roll</td>\n",
       "      <td>380</td>\n",
       "      <td>6.0</td>\n",
       "      <td>70</td>\n",
       "    </tr>\n",
       "    <tr>\n",
       "      <th>2</th>\n",
       "      <td>Almond Croissant</td>\n",
       "      <td>410</td>\n",
       "      <td>22.0</td>\n",
       "      <td>45</td>\n",
       "    </tr>\n",
       "    <tr>\n",
       "      <th>3</th>\n",
       "      <td>Apple Fritter</td>\n",
       "      <td>460</td>\n",
       "      <td>23.0</td>\n",
       "      <td>56</td>\n",
       "    </tr>\n",
       "    <tr>\n",
       "      <th>4</th>\n",
       "      <td>Banana Nut Bread</td>\n",
       "      <td>420</td>\n",
       "      <td>22.0</td>\n",
       "      <td>52</td>\n",
       "    </tr>\n",
       "  </tbody>\n",
       "</table>\n",
       "</div>"
      ],
      "text/plain": [
       "               Name   Calories   Fat (g)  Carb (g)\n",
       "0      Chonga Bagel        300       5.0        50\n",
       "1      8-Grain Roll        380       6.0        70\n",
       "2  Almond Croissant        410      22.0        45\n",
       "3     Apple Fritter        460      23.0        56\n",
       "4  Banana Nut Bread        420      22.0        52"
      ]
     },
     "execution_count": 22,
     "metadata": {},
     "output_type": "execute_result"
    }
   ],
   "source": [
    "df_nf_new.head(5)"
   ]
  },
  {
   "cell_type": "code",
   "execution_count": 23,
   "metadata": {},
   "outputs": [
    {
     "name": "stdout",
     "output_type": "stream",
     "text": [
      "Minimum of column  2 :  90\n",
      "Maximum of column  2 :  650\n",
      "Mean of column  2 :  356.6371681415929\n",
      "Standard deviation of column  2 :  127.71068460914907\n",
      "Variance of column  2 :  16310.018963337547\n",
      "Sum of column  2 :  40300\n",
      "\n",
      "\n",
      "Minimum of column  3 :  0.0\n",
      "Maximum of column  3 :  37.0\n",
      "Mean of column  3 :  16.353982300884955\n",
      "Standard deviation of column  3 :  8.297396702303574\n",
      "Variance of column  3 :  68.84679203539822\n",
      "Sum of column  3 :  1848.0\n",
      "\n",
      "\n",
      "Minimum of column  4 :  5\n",
      "Maximum of column  4 :  80\n",
      "Mean of column  4 :  41.48672566371681\n",
      "Standard deviation of column  4 :  15.796764499329662\n",
      "Variance of column  4 :  249.53776864728192\n",
      "Sum of column  4 :  4688\n",
      "\n",
      "\n"
     ]
    }
   ],
   "source": [
    "#Finding the Minumum, Maximum, Mean, Standard Deviation, Variance and Sum of that each column with numerical values\n",
    "for i in range(1, len(df_nf_new.columns)):\n",
    "    df_nf_num = pd.to_numeric(df_nf_new[df_nf_new.columns[i]])\n",
    "    print('Minimum of column ', i+1, ': ', df_nf_num.min())\n",
    "    print('Maximum of column ', i+1, ': ', df_nf_num.max())\n",
    "    print('Mean of column ', i+1, ': ', df_nf_num.mean())\n",
    "    print('Standard deviation of column ', i+1, ': ', df_nf_num.std())\n",
    "    print('Variance of column ', i+1, ': ', df_nf_num.var())\n",
    "    print('Sum of column ', i+1, ': ', df_nf_num.sum())\n",
    "    print('\\n')"
   ]
  },
  {
   "cell_type": "code",
   "execution_count": 24,
   "metadata": {},
   "outputs": [],
   "source": [
    "#Randomly sampling 50% of new data \n",
    "df_nf_split1 = df_nf_new.sample(frac = 0.5)\n",
    "df_nf_split2 = df_nf_new\n",
    "for i in df_nf_split1.index:\n",
    "    df_nf_split2 = df_nf_split2.drop(i)"
   ]
  },
  {
   "cell_type": "code",
   "execution_count": 25,
   "metadata": {},
   "outputs": [],
   "source": [
    "#Randomly sampling 50% of each split\n",
    "df_nf_random1 = df_nf_split1.sample(frac = 0.5)\n",
    "df_nf_random2 = df_nf_split1\n",
    "for i in df_nf_random1.index:\n",
    "    df_nf_random2 = df_nf_random2.drop(i)"
   ]
  },
  {
   "cell_type": "code",
   "execution_count": 26,
   "metadata": {},
   "outputs": [],
   "source": [
    "df_nf_random3 = df_nf_split2.sample(frac = 0.5)\n",
    "df_nf_random4 = df_nf_split2\n",
    "for i in df_nf_random3.index:\n",
    "    df_nf_random4 = df_nf_random4.drop(i)"
   ]
  },
  {
   "cell_type": "code",
   "execution_count": 28,
   "metadata": {},
   "outputs": [
    {
     "data": {
      "text/plain": [
       "(array([ 6., 13.,  7., 14., 19., 19., 18., 10.,  3.,  4.]),\n",
       " array([ 90., 146., 202., 258., 314., 370., 426., 482., 538., 594., 650.]),\n",
       " <BarContainer object of 10 artists>)"
      ]
     },
     "execution_count": 28,
     "metadata": {},
     "output_type": "execute_result"
    },
    {
     "data": {
      "image/png": "[encoded data removed]",
      "text/plain": [
       "<Figure size 640x480 with 1 Axes>"
      ]
     },
     "metadata": {},
     "output_type": "display_data"
    }
   ],
   "source": [
    "#creating histogram\n",
    "plt.hist(df_nf[' Calories'], bins = 10)"
   ]
  },
  {
   "cell_type": "code",
   "execution_count": 29,
   "metadata": {},
   "outputs": [
    {
     "data": {
      "text/plain": [
       "(array([ 6.,  5.,  7., 17., 22., 22., 19.,  9.,  4.,  2.]),\n",
       " array([ 5. , 12.5, 20. , 27.5, 35. , 42.5, 50. , 57.5, 65. , 72.5, 80. ]),\n",
       " <BarContainer object of 10 artists>)"
      ]
     },
     "execution_count": 29,
     "metadata": {},
     "output_type": "execute_result"
    },
    {
     "data": {
      "image/png": "[encoded data removed]",
      "text/plain": [
       "<Figure size 640x480 with 1 Axes>"
      ]
     },
     "metadata": {},
     "output_type": "display_data"
    }
   ],
   "source": [
    "plt.hist(df_nf[' Carb. (g)'], bins = 10)"
   ]
  },
  {
   "cell_type": "code",
   "execution_count": 34,
   "metadata": {},
   "outputs": [
    {
     "data": {
      "text/plain": [
       "<Axes: ylabel=' Fat (g)'>"
      ]
     },
     "execution_count": 34,
     "metadata": {},
     "output_type": "execute_result"
    },
    {
     "data": {
      "image/png": "[encoded data removed]",
      "text/plain": [
       "<Figure size 640x480 with 1 Axes>"
      ]
     },
     "metadata": {},
     "output_type": "display_data"
    }
   ],
   "source": [
    "#creating boxplot\n",
    "sns.boxplot(df_nf[' Fat (g)'])"
   ]
  },
  {
   "cell_type": "code",
   "execution_count": 35,
   "metadata": {},
   "outputs": [
    {
     "data": {
      "text/plain": [
       "<Axes: ylabel=' Protein (g)'>"
      ]
     },
     "execution_count": 35,
     "metadata": {},
     "output_type": "execute_result"
    },
    {
     "data": {
      "image/png": "[encoded data removed]",
      "text/plain": [
       "<Figure size 640x480 with 1 Axes>"
      ]
     },
     "metadata": {},
     "output_type": "display_data"
    }
   ],
   "source": [
    "sns.boxplot(df_nf[' Protein (g)'])"
   ]
  }
 ],
 "metadata": {
  "kernelspec": {
   "display_name": "Python 3",
   "language": "python",
   "name": "python3"
  },
  "language_info": {
   "codemirror_mode": {
    "name": "ipython",
    "version": 3
   },
   "file_extension": ".py",
   "mimetype": "text/x-python",
   "name": "python",
   "nbconvert_exporter": "python",
   "pygments_lexer": "ipython3",
   "version": "3.9.18"
  }
 },
 "nbformat": 4,
 "nbformat_minor": 2
}
